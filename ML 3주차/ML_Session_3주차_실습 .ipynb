{
 "cells": [
  {
   "cell_type": "markdown",
   "metadata": {},
   "source": [
    "<font color=\"#CC3D3D\"><p>\n",
    "# Evaluation Metrics"
   ]
  },
  {
   "cell_type": "markdown",
   "metadata": {},
   "source": [
    "<font color = \"#CC3D3D\"><p>\n",
    "- [Module Import](#Module-Import)\n",
    "- [Classifier Model Evaluation Metrics](#Classifier-Model-Evaluation-Metrics)\n",
    "    - [Accuracy](#Accuracy)\n",
    "    - [Recall, Precision & F1](#Recall,-Precision-&-F1)\n",
    "    - [ROC-AUC](#ROC-AUC)\n",
    "- [Regressor Model Evaluation Metrics](#Regressor-Model-Evaluation-Metrics)\n",
    "    - [MSE , RMSE, RMSLE](#MSE-,-RMSE,-RMSLE)\n",
    "    - [RMSE와 RMSLE](#RMSE와-RMSLE)"
   ]
  },
  {
   "cell_type": "markdown",
   "metadata": {},
   "source": [
    "# Module Import"
   ]
  },
  {
   "cell_type": "code",
   "execution_count": 1,
   "metadata": {},
   "outputs": [],
   "source": [
    "# Data Wrangling \n",
    "import pandas as pd\n",
    "import numpy as np \n",
    "\n",
    "# Preprocessing & Feature Engineering\n",
    "from sklearn.model_selection import train_test_split\n",
    "\n",
    "#Model import \n",
    "from sklearn.linear_model import LogisticRegression\n",
    "from sklearn.tree import DecisionTreeClassifier\n",
    "\n",
    "#Evaluation\n",
    "from sklearn.metrics import roc_auc_score\n",
    "from sklearn.metrics import roc_curve\n",
    "from sklearn.metrics import auc\n",
    "from sklearn.metrics import plot_roc_curve  # sklearn 0.22\n",
    "from sklearn.metrics import accuracy_score, recall_score, precision_score, f1_score\n",
    "from sklearn.metrics import plot_confusion_matrix\n",
    "\n",
    "from sklearn.metrics import mean_absolute_error\n",
    "from sklearn.metrics import mean_squared_error\n",
    "from sklearn.metrics import mean_squared_log_error\n",
    "\n",
    "\n",
    "#EDA\n",
    "import matplotlib.pyplot as plt\n",
    "%matplotlib inline"
   ]
  },
  {
   "cell_type": "markdown",
   "metadata": {},
   "source": [
    "# Classifier Model Evaluation Metrics"
   ]
  },
  {
   "cell_type": "markdown",
   "metadata": {},
   "source": [
    "## Imbalance Data \n",
    "- 효율적인 평가지표 비교를 위해 숫자 9를 positive class로 설정하여 불균형 데이터를 생성한다. "
   ]
  },
  {
   "cell_type": "code",
   "execution_count": 2,
   "metadata": {},
   "outputs": [],
   "source": [
    "from sklearn.datasets import load_digits\n",
    "\n",
    "digits = load_digits()\n",
    "y = digits.target == 9"
   ]
  },
  {
   "cell_type": "code",
   "execution_count": 3,
   "metadata": {},
   "outputs": [
    {
     "data": {
      "text/plain": [
       "0.1001669449081803"
      ]
     },
     "execution_count": 3,
     "metadata": {},
     "output_type": "execute_result"
    }
   ],
   "source": [
    "# y가 true(숫자 9)인 비율 \n",
    "(y == True).mean()"
   ]
  },
  {
   "cell_type": "markdown",
   "metadata": {},
   "source": [
    "*Data Split*"
   ]
  },
  {
   "cell_type": "code",
   "execution_count": 4,
   "metadata": {},
   "outputs": [],
   "source": [
    "X_train, X_test, y_train, y_test = train_test_split(digits.data, y, random_state=777)"
   ]
  },
  {
   "cell_type": "markdown",
   "metadata": {},
   "source": [
    "## Train Models"
   ]
  },
  {
   "cell_type": "markdown",
   "metadata": {},
   "source": [
    "***Decision Tree***"
   ]
  },
  {
   "cell_type": "code",
   "execution_count": 5,
   "metadata": {},
   "outputs": [],
   "source": [
    "tree = DecisionTreeClassifier(max_depth=3).fit(X_train, y_train)\n",
    "pred_tree = tree.predict(X_test)"
   ]
  },
  {
   "cell_type": "markdown",
   "metadata": {},
   "source": [
    "***Logistic Regrssion***"
   ]
  },
  {
   "cell_type": "code",
   "execution_count": 6,
   "metadata": {},
   "outputs": [],
   "source": [
    "logit = LogisticRegression(C=0.0001).fit(X_train, y_train)\n",
    "pred_logit = logit.predict(X_test)"
   ]
  },
  {
   "cell_type": "markdown",
   "metadata": {},
   "source": [
    "## Accuracy"
   ]
  },
  {
   "cell_type": "code",
   "execution_count": 7,
   "metadata": {},
   "outputs": [
    {
     "name": "stdout",
     "output_type": "stream",
     "text": [
      "tree: 0.9422222222222222\n",
      "logit: 0.9177777777777778\n"
     ]
    }
   ],
   "source": [
    "print(\"tree:\", accuracy_score(y_test, pred_tree))\n",
    "print(\"logit:\", accuracy_score(y_test, pred_logit))"
   ]
  },
  {
   "cell_type": "markdown",
   "metadata": {},
   "source": [
    "<font color='green'><p>\n",
    "###  Confusion Matrix ###\n",
    "<br>\n",
    "<img align=\"left\" src=\"http://drive.google.com/uc?export=view&id=1wIJIJENLCnfoesuTUMDjywPLMJnat36E\" width=700 height=500>"
   ]
  },
  {
   "cell_type": "code",
   "execution_count": 13,
   "metadata": {},
   "outputs": [
    {
     "data": {
      "image/png": "[encoded data removed]",
      "text/plain": [
       "<Figure size 1080x216 with 4 Axes>"
      ]
     },
     "metadata": {
      "needs_background": "light"
     },
     "output_type": "display_data"
    }
   ],
   "source": [
    "fig, ax = plt.subplots(1, 2, figsize=(15,3))\n",
    "plot_confusion_matrix(tree, X_test, y_test, display_labels=[\"not 9\", \"9\"], cmap=plt.cm.Blues, ax=ax[0])\n",
    "plot_confusion_matrix(logit, X_test, y_test, display_labels=[\"not 9\", \"9\"], cmap=plt.cm.Blues, ax=ax[1])\n",
    "ax[0].set_title('tree')\n",
    "ax[1].set_title('logit')\n",
    "plt.show()"
   ]
  },
  {
   "cell_type": "markdown",
   "metadata": {},
   "source": [
    "## Recall, Precision & F1"
   ]
  },
  {
   "cell_type": "code",
   "execution_count": 20,
   "metadata": {},
   "outputs": [
    {
     "name": "stdout",
     "output_type": "stream",
     "text": [
      "Recall score\n",
      "tree: 0.71\n",
      "logit: 0.18\n",
      "-------------------------------------------\n",
      "Precision score\n",
      "tree: 0.71\n",
      "logit: 1.0\n",
      "--------------------------------------------\n",
      "F1 score\n",
      "tree: 0.71\n",
      "logit: 0.3\n"
     ]
    }
   ],
   "source": [
    "print(\"Recall score\")\n",
    "print(\"tree:\",round(recall_score(y_test, pred_tree),2))\n",
    "print(\"logit:\",round(recall_score(y_test, pred_logit),2))\n",
    "print(\"-------------------------------------------\")\n",
    "print(\"Precision score\")\n",
    "print(\"tree:\",round(precision_score(y_test, pred_tree),2))\n",
    "print(\"logit:\",round(precision_score(y_test, pred_logit),2))\n",
    "print(\"--------------------------------------------\")\n",
    "print(\"F1 score\")\n",
    "print(\"tree:\",round(f1_score(y_test, pred_tree),2))\n",
    "print(\"logit:\",round(f1_score(y_test, pred_logit),2))"
   ]
  },
  {
   "cell_type": "markdown",
   "metadata": {},
   "source": [
    "## ROC-AUC\n",
    "<img align=\"left\" src=\"http://drive.google.com/uc?export=view&id=1Htx445FclSqHhhNxPT_uOYQOBiuneWXJ\" width=600 height=400>"
   ]
  },
  {
   "cell_type": "markdown",
   "metadata": {},
   "source": [
    "***AUC***"
   ]
  },
  {
   "cell_type": "code",
   "execution_count": 24,
   "metadata": {},
   "outputs": [
    {
     "name": "stdout",
     "output_type": "stream",
     "text": [
      "tree:  0.9071604938271605\n",
      "logit:  0.9754183813443073\n"
     ]
    }
   ],
   "source": [
    "fpr, tpr, _ = roc_curve(y_test, tree.predict_proba(X_test)[:,1])\n",
    "print('tree: ', auc(fpr, tpr))\n",
    "\n",
    "fpr, tpr, _ = roc_curve(y_test, logit.predict_proba(X_test)[:,1])\n",
    "print('logit: ', auc(fpr, tpr))"
   ]
  },
  {
   "cell_type": "markdown",
   "metadata": {},
   "source": [
    "***ROC curve***"
   ]
  },
  {
   "cell_type": "code",
   "execution_count": 25,
   "metadata": {},
   "outputs": [
    {
     "data": {
      "image/png": "[encoded data removed]",
      "text/plain": [
       "<Figure size 576x432 with 1 Axes>"
      ]
     },
     "metadata": {
      "needs_background": "light"
     },
     "output_type": "display_data"
    }
   ],
   "source": [
    "fig, ax = plt.subplots(1, 1, figsize=(8,6))\n",
    "plot_roc_curve(tree, X_test, y_test, ax=ax)\n",
    "plot_roc_curve(logit, X_test, y_test, ax=ax)\n",
    "ax.set_title('ROC curve')\n",
    "plt.show()"
   ]
  },
  {
   "cell_type": "markdown",
   "metadata": {},
   "source": [
    "# Regressor Model Evaluation Metrics"
   ]
  },
  {
   "cell_type": "markdown",
   "metadata": {},
   "source": [
    "### MSE , RMSE, RMSLE"
   ]
  },
  {
   "cell_type": "code",
   "execution_count": 74,
   "metadata": {},
   "outputs": [],
   "source": [
    "prediction = [1]\n",
    "y_target = [0.5]"
   ]
  },
  {
   "cell_type": "code",
   "execution_count": 75,
   "metadata": {},
   "outputs": [
    {
     "name": "stdout",
     "output_type": "stream",
     "text": [
      "정답 : 0.5, 예측값 : 1 \n",
      "MSE 0.25\n",
      "RMSE 0.5\n",
      "RMSLE 0.2876820724517809\n"
     ]
    }
   ],
   "source": [
    "MSE = mean_squared_error(prediction, y_target)\n",
    "RMSE = np.sqrt(MSE)\n",
    "# mean_saured_error(prediction, y_traget, squared=False)\n",
    "\n",
    "MSLE = mean_squared_log_error(prediction,y_target)\n",
    "RMSLE = np.sqrt(MSLE)\n",
    "\n",
    "print(\"정답 : 0.5, 예측값 : 1 \")\n",
    "print('MSE',MSE)\n",
    "print('RMSE',RMSE)\n",
    "print('RMSLE',RMSLE)"
   ]
  },
  {
   "cell_type": "markdown",
   "metadata": {},
   "source": [
    "### RMSE와 RMSLE"
   ]
  },
  {
   "cell_type": "markdown",
   "metadata": {},
   "source": [
    "**1. RMSLE는 outlier에 강하다** "
   ]
  },
  {
   "cell_type": "code",
   "execution_count": 76,
   "metadata": {},
   "outputs": [
    {
     "name": "stdout",
     "output_type": "stream",
     "text": [
      "outlier가 없는 데이터의 경우 \n",
      "-----------------------------\n",
      "RMSE :  4.242640687119285\n",
      "RMSLE :  0.0646679237996832\n"
     ]
    }
   ],
   "source": [
    "prediction = [67,78,91]\n",
    "y_target = [60,80,90]\n",
    "\n",
    "MSE = mean_squared_error(prediction, y_target)\n",
    "RMSE = np.sqrt(MSE)\n",
    "\n",
    "MSLE = mean_squared_log_error(prediction,y_target)\n",
    "RMSLE = np.sqrt(MSLE)\n",
    "\n",
    "print(\"outlier가 없는 데이터의 경우 \")\n",
    "print(\"-----------------------------\")\n",
    "print(\"RMSE : \", RMSE)\n",
    "print(\"RMSLE : \", RMSLE)"
   ]
  },
  {
   "cell_type": "code",
   "execution_count": 77,
   "metadata": {},
   "outputs": [
    {
     "name": "stdout",
     "output_type": "stream",
     "text": [
      "outlier가 있는 데이터의 경우 \n",
      "-----------------------------\n",
      "RMSE :  324.02083266358045\n",
      "RMSLE :  0.9949158238939428\n"
     ]
    }
   ],
   "source": [
    "prediction = [67,78,91,102]\n",
    "y_target = [60,80,90,750]\n",
    "\n",
    "MSE = mean_squared_error(prediction, y_target)\n",
    "RMSE = np.sqrt(MSE)\n",
    "\n",
    "MSLE = mean_squared_log_error(prediction,y_target)\n",
    "RMSLE = np.sqrt(MSLE)\n",
    "\n",
    "print(\"outlier가 있는 데이터의 경우 \")\n",
    "print(\"-----------------------------\")\n",
    "print(\"RMSE : \", RMSE)\n",
    "print(\"RMSLE : \", RMSLE)"
   ]
  },
  {
   "cell_type": "markdown",
   "metadata": {},
   "source": [
    "**2. RMSLE 는 상대적인 ERROR를 측정해준다.** "
   ]
  },
  {
   "cell_type": "code",
   "execution_count": 78,
   "metadata": {},
   "outputs": [
    {
     "name": "stdout",
     "output_type": "stream",
     "text": [
      "상대적인 크기가 동일한 경우 \n",
      "------------------------------------------------\n",
      "RMSE :   10.0                ,  1000.0\n",
      "RMSLE :  0.10426101032440993 ,  0.10534940571943174\n"
     ]
    }
   ],
   "source": [
    "prediction_1 = [100]\n",
    "y_target_1 = [90]\n",
    "\n",
    "prediction_2 = [10000]\n",
    "y_target_2 = [9000]\n",
    "\n",
    "MSE_p1 = mean_squared_error(prediction_1, y_target_1)\n",
    "RMSE_p1 = np.sqrt(MSE_p1)\n",
    "MSE_p2 = mean_squared_error(prediction_2, y_target_2)\n",
    "RMSE_p2 = np.sqrt(MSE_p2)\n",
    "\n",
    "\n",
    "MSLE_p1 = mean_squared_log_error(prediction_1,y_target_1)\n",
    "RMSLE_p1 = np.sqrt(MSLE_p1)\n",
    "MSLE_p2 = mean_squared_log_error(prediction_2,y_target_2)\n",
    "RMSLE_p2 = np.sqrt(MSLE_p2)\n",
    "\n",
    "\n",
    "\n",
    "\n",
    "\n",
    "print(\"상대적인 크기가 동일한 경우 \")\n",
    "print(\"------------------------------------------------\")\n",
    "print(\"RMSE :  \", RMSE_p1, \"               , \",RMSE_p2)\n",
    "print(\"RMSLE : \", RMSLE_p1,\", \",RMSLE_p2)"
   ]
  },
  {
   "cell_type": "markdown",
   "metadata": {},
   "source": [
    "**3. RMSLE는 예측값이 실제값보다 작을 때 패널티를 부여한다.** "
   ]
  },
  {
   "cell_type": "code",
   "execution_count": 82,
   "metadata": {},
   "outputs": [
    {
     "name": "stdout",
     "output_type": "stream",
     "text": [
      "예측값이 실제값보다 큰 경우 \n",
      "------------------------------------------------\n",
      "RMSE :   400.0\n",
      "RMSLE :  0.3361867670217862\n",
      "\n",
      "예측값이 실제값보다 작은 경우 \n",
      "------------------------------------------------\n",
      "RMSE :   400.0\n",
      "RMSLE :  0.5101598447800129\n"
     ]
    }
   ],
   "source": [
    "prediction_1 = [1400]\n",
    "prediction_2 = [600]\n",
    "y_target= [1000]\n",
    "\n",
    "\n",
    "MSE_p1 = mean_squared_error(prediction_1, y_target)\n",
    "RMSE_p1 = np.sqrt(MSE_p1)\n",
    "MSE_p2 = mean_squared_error(prediction_2, y_target)\n",
    "RMSE_p2 = np.sqrt(MSE_p2)\n",
    "\n",
    "\n",
    "MSLE_p1 = mean_squared_log_error(prediction_1,y_target)\n",
    "RMSLE_p1 = np.sqrt(MSLE_p1)\n",
    "MSLE_p2 = mean_squared_log_error(prediction_2,y_target)\n",
    "RMSLE_p2 = np.sqrt(MSLE_p2)\n",
    "\n",
    "\n",
    "\n",
    "\n",
    "\n",
    "print(\"예측값이 실제값보다 큰 경우 \")\n",
    "print(\"------------------------------------------------\")\n",
    "print(\"RMSE :  \", RMSE_p1)\n",
    "print(\"RMSLE : \", RMSLE_p1)\n",
    "print()\n",
    "print(\"예측값이 실제값보다 작은 경우 \")\n",
    "print(\"------------------------------------------------\")\n",
    "print(\"RMSE :  \", RMSE_p2)\n",
    "print(\"RMSLE : \", RMSLE_p2)"
   ]
  }
 ],
 "metadata": {
  "kernelspec": {
   "display_name": "Python 3",
   "language": "python",
   "name": "python3"
  },
  "language_info": {
   "codemirror_mode": {
    "name": "ipython",
    "version": 3
   },
   "file_extension": ".py",
   "mimetype": "text/x-python",
   "name": "python",
   "nbconvert_exporter": "python",
   "pygments_lexer": "ipython3",
   "version": "3.8.5"
  }
 },
 "nbformat": 4,
 "nbformat_minor": 5
}
