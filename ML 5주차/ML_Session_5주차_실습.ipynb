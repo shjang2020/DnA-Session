{
 "cells": [
  {
   "cell_type": "markdown",
   "metadata": {},
   "source": [
    "# Topics\n",
    "* [데이터 살펴보기](#데이터-살펴보기)\n",
    "    + [데이터 불러오기](#데이터-불러오기)\n",
    "    + [데이터 파악](#데이터-파악)\n",
    "    + [열정보(feature)파악](#열정보(feature)파악)\n",
    "* [간단한 전처리](#간단한-전처리)\n",
    "    + [targetDateTime 열의 날짜 정보를 구체화](#targetDateTime-열의-날짜-정보를-구체화)\n",
    "    + [연령대 피쳐 추가](#연령대-피쳐-추가)\n",
    "    + [범주형 변수를 숫자로 매핑](#범주형-변수를-숫자로-매핑)\n",
    "    + [스케일링](#스케일링)\n",
    "* [모델링](#모델링)\n",
    "    + [기본 모델 성능 파악](#기본-모델-성능-파악)\n",
    "    + [배깅](#배깅)\n",
    "    + [DecisionTree에 배깅 적용하기](#DecisionTree에-배깅-적용하기)\n",
    "    + [랜덤포레스트](#랜덤포레스트)\n",
    "    + [엑스트라트리](#엑스트라트리)\n",
    "* [베이지안최적화](#베이지안-최적화)"
   ]
  },
  {
   "cell_type": "markdown",
   "metadata": {},
   "source": [
    "# 데이터 살펴보기"
   ]
  },
  {
   "cell_type": "markdown",
   "metadata": {},
   "source": [
    "- 설문조사 데이터\n",
    "- 목표 : 설문지 응답 여부 예측하기 "
   ]
  },
  {
   "cell_type": "markdown",
   "metadata": {},
   "source": [
    "### 데이터 불러오기"
   ]
  },
  {
   "cell_type": "code",
   "execution_count": 184,
   "metadata": {},
   "outputs": [],
   "source": [
    "import pandas as pd\n",
    "X_train = pd.read_csv('./X_train.csv', encoding = 'cp949') \n",
    "y_train = pd.read_csv('./y_train.csv', encoding = 'cp949') \n",
    "X_test = pd.read_csv('./X_test.csv', encoding = 'cp949') \n",
    "y_test = pd.read_csv('./y_test.csv', encoding = 'cp949') "
   ]
  },
  {
   "cell_type": "markdown",
   "metadata": {},
   "source": [
    "### 데이터 파악"
   ]
  },
  {
   "cell_type": "markdown",
   "metadata": {},
   "source": [
    "- 데이터는 총 `X_train`, `X_test`, `y_train`, `y_test` 4가지로 이루어져있다. \n",
    "- 설문조사 응답 여부를 예측하는 문제이기 때문에 `X_train`의 열(features)을 이용하여 `y_train`(status)를 예측하는 모델을 만들면 된다. "
   ]
  },
  {
   "cell_type": "code",
   "execution_count": 185,
   "metadata": {},
   "outputs": [
    {
     "name": "stdout",
     "output_type": "stream",
     "text": [
      "<class 'pandas.core.frame.DataFrame'>\n",
      "RangeIndex: 300001 entries, 0 to 300000\n",
      "Data columns (total 7 columns):\n",
      " #   Column          Non-Null Count   Dtype \n",
      "---  ------          --------------   ----- \n",
      " 0   PANEL_TYPE      300001 non-null  object\n",
      " 1   targetDateTime  300001 non-null  object\n",
      " 2   weekday         300001 non-null  int64 \n",
      " 3   isholiday       300001 non-null  int64 \n",
      " 4   gender          300001 non-null  object\n",
      " 5   region          300001 non-null  object\n",
      " 6   birthYear       300001 non-null  int64 \n",
      "dtypes: int64(3), object(4)\n",
      "memory usage: 16.0+ MB\n"
     ]
    }
   ],
   "source": [
    "X_train.info()"
   ]
  },
  {
   "cell_type": "code",
   "execution_count": 186,
   "metadata": {},
   "outputs": [
    {
     "name": "stdout",
     "output_type": "stream",
     "text": [
      "<class 'pandas.core.frame.DataFrame'>\n",
      "RangeIndex: 300001 entries, 0 to 300000\n",
      "Data columns (total 1 columns):\n",
      " #   Column  Non-Null Count   Dtype\n",
      "---  ------  --------------   -----\n",
      " 0   status  300001 non-null  int64\n",
      "dtypes: int64(1)\n",
      "memory usage: 2.3 MB\n"
     ]
    }
   ],
   "source": [
    "y_train.info()"
   ]
  },
  {
   "cell_type": "code",
   "execution_count": 187,
   "metadata": {},
   "outputs": [
    {
     "name": "stdout",
     "output_type": "stream",
     "text": [
      "<class 'pandas.core.frame.DataFrame'>\n",
      "RangeIndex: 400001 entries, 0 to 400000\n",
      "Data columns (total 7 columns):\n",
      " #   Column          Non-Null Count   Dtype \n",
      "---  ------          --------------   ----- \n",
      " 0   PANEL_TYPE      400001 non-null  object\n",
      " 1   targetDateTime  400001 non-null  object\n",
      " 2   weekday         400001 non-null  int64 \n",
      " 3   isholiday       400001 non-null  int64 \n",
      " 4   gender          400001 non-null  object\n",
      " 5   region          400001 non-null  object\n",
      " 6   birthYear       400001 non-null  int64 \n",
      "dtypes: int64(3), object(4)\n",
      "memory usage: 21.4+ MB\n"
     ]
    }
   ],
   "source": [
    "X_test.info()"
   ]
  },
  {
   "cell_type": "code",
   "execution_count": 188,
   "metadata": {},
   "outputs": [
    {
     "name": "stdout",
     "output_type": "stream",
     "text": [
      "<class 'pandas.core.frame.DataFrame'>\n",
      "RangeIndex: 400001 entries, 0 to 400000\n",
      "Data columns (total 1 columns):\n",
      " #   Column  Non-Null Count   Dtype\n",
      "---  ------  --------------   -----\n",
      " 0   status  400001 non-null  int64\n",
      "dtypes: int64(1)\n",
      "memory usage: 3.1 MB\n"
     ]
    }
   ],
   "source": [
    "y_test.info()"
   ]
  },
  {
   "cell_type": "markdown",
   "metadata": {},
   "source": [
    "### 열(feature)정보 파악 "
   ]
  },
  {
   "cell_type": "markdown",
   "metadata": {},
   "source": [
    "- `PANEL_TYPE` : 설문조사 업체 유형\n",
    "- `targetDateTime` : 설문지 발송시간\n",
    "- `weekday` : 설문지 발송요일\n",
    "- `isholiday` : 공휴일 여부\n",
    "- `gender` : 성별\n",
    "- `region` : 지역\n",
    "- `birthYear` : 생년월일\n",
    "- `status` : 응답여부 (target)"
   ]
  },
  {
   "cell_type": "code",
   "execution_count": 189,
   "metadata": {},
   "outputs": [
    {
     "data": {
      "text/html": [
       "<div>\n",
       "<style scoped>\n",
       "    .dataframe tbody tr th:only-of-type {\n",
       "        vertical-align: middle;\n",
       "    }\n",
       "\n",
       "    .dataframe tbody tr th {\n",
       "        vertical-align: top;\n",
       "    }\n",
       "\n",
       "    .dataframe thead th {\n",
       "        text-align: right;\n",
       "    }\n",
       "</style>\n",
       "<table border=\"1\" class=\"dataframe\">\n",
       "  <thead>\n",
       "    <tr style=\"text-align: right;\">\n",
       "      <th></th>\n",
       "      <th>PANEL_TYPE</th>\n",
       "      <th>targetDateTime</th>\n",
       "      <th>weekday</th>\n",
       "      <th>isholiday</th>\n",
       "      <th>gender</th>\n",
       "      <th>region</th>\n",
       "      <th>birthYear</th>\n",
       "    </tr>\n",
       "  </thead>\n",
       "  <tbody>\n",
       "    <tr>\n",
       "      <th>0</th>\n",
       "      <td>B</td>\n",
       "      <td>2020-10-02 14:31:33.907000+00:00</td>\n",
       "      <td>4</td>\n",
       "      <td>1</td>\n",
       "      <td>남성</td>\n",
       "      <td>대구</td>\n",
       "      <td>1984</td>\n",
       "    </tr>\n",
       "    <tr>\n",
       "      <th>1</th>\n",
       "      <td>A</td>\n",
       "      <td>2020-10-31 02:41:16.345000+00:00</td>\n",
       "      <td>5</td>\n",
       "      <td>0</td>\n",
       "      <td>여성</td>\n",
       "      <td>경기</td>\n",
       "      <td>1972</td>\n",
       "    </tr>\n",
       "    <tr>\n",
       "      <th>2</th>\n",
       "      <td>B</td>\n",
       "      <td>2020-11-22 10:00:22.825000+00:00</td>\n",
       "      <td>6</td>\n",
       "      <td>0</td>\n",
       "      <td>여성</td>\n",
       "      <td>서울</td>\n",
       "      <td>1985</td>\n",
       "    </tr>\n",
       "    <tr>\n",
       "      <th>3</th>\n",
       "      <td>B</td>\n",
       "      <td>2020-12-29 23:01:23.912000+00:00</td>\n",
       "      <td>1</td>\n",
       "      <td>0</td>\n",
       "      <td>남성</td>\n",
       "      <td>서울</td>\n",
       "      <td>1957</td>\n",
       "    </tr>\n",
       "    <tr>\n",
       "      <th>4</th>\n",
       "      <td>A</td>\n",
       "      <td>2020-12-09 22:03:50.542000+00:00</td>\n",
       "      <td>2</td>\n",
       "      <td>0</td>\n",
       "      <td>남성</td>\n",
       "      <td>광주</td>\n",
       "      <td>1974</td>\n",
       "    </tr>\n",
       "  </tbody>\n",
       "</table>\n",
       "</div>"
      ],
      "text/plain": [
       "  PANEL_TYPE                    targetDateTime  weekday  isholiday gender  \\\n",
       "0          B  2020-10-02 14:31:33.907000+00:00        4          1     남성   \n",
       "1          A  2020-10-31 02:41:16.345000+00:00        5          0     여성   \n",
       "2          B  2020-11-22 10:00:22.825000+00:00        6          0     여성   \n",
       "3          B  2020-12-29 23:01:23.912000+00:00        1          0     남성   \n",
       "4          A  2020-12-09 22:03:50.542000+00:00        2          0     남성   \n",
       "\n",
       "  region  birthYear  \n",
       "0     대구       1984  \n",
       "1     경기       1972  \n",
       "2     서울       1985  \n",
       "3     서울       1957  \n",
       "4     광주       1974  "
      ]
     },
     "execution_count": 189,
     "metadata": {},
     "output_type": "execute_result"
    }
   ],
   "source": [
    "X_train.head()"
   ]
  },
  {
   "cell_type": "code",
   "execution_count": 190,
   "metadata": {
    "scrolled": true
   },
   "outputs": [
    {
     "data": {
      "text/html": [
       "<div>\n",
       "<style scoped>\n",
       "    .dataframe tbody tr th:only-of-type {\n",
       "        vertical-align: middle;\n",
       "    }\n",
       "\n",
       "    .dataframe tbody tr th {\n",
       "        vertical-align: top;\n",
       "    }\n",
       "\n",
       "    .dataframe thead th {\n",
       "        text-align: right;\n",
       "    }\n",
       "</style>\n",
       "<table border=\"1\" class=\"dataframe\">\n",
       "  <thead>\n",
       "    <tr style=\"text-align: right;\">\n",
       "      <th></th>\n",
       "      <th>status</th>\n",
       "    </tr>\n",
       "  </thead>\n",
       "  <tbody>\n",
       "    <tr>\n",
       "      <th>0</th>\n",
       "      <td>0</td>\n",
       "    </tr>\n",
       "    <tr>\n",
       "      <th>1</th>\n",
       "      <td>0</td>\n",
       "    </tr>\n",
       "    <tr>\n",
       "      <th>2</th>\n",
       "      <td>0</td>\n",
       "    </tr>\n",
       "    <tr>\n",
       "      <th>3</th>\n",
       "      <td>1</td>\n",
       "    </tr>\n",
       "    <tr>\n",
       "      <th>4</th>\n",
       "      <td>0</td>\n",
       "    </tr>\n",
       "  </tbody>\n",
       "</table>\n",
       "</div>"
      ],
      "text/plain": [
       "   status\n",
       "0       0\n",
       "1       0\n",
       "2       0\n",
       "3       1\n",
       "4       0"
      ]
     },
     "execution_count": 190,
     "metadata": {},
     "output_type": "execute_result"
    }
   ],
   "source": [
    "y_train.head()"
   ]
  },
  {
   "cell_type": "markdown",
   "metadata": {},
   "source": [
    "# 간단한 전처리"
   ]
  },
  {
   "cell_type": "markdown",
   "metadata": {},
   "source": [
    "### targetDateTime 열의 날짜 정보를 구체화"
   ]
  },
  {
   "cell_type": "code",
   "execution_count": 191,
   "metadata": {},
   "outputs": [],
   "source": [
    "# 날짜 분리 (Date)\n",
    "X_train['Year'] = X_train['targetDateTime'].str.split(' ').str[0].str.split('-').str[0].astype('int64')\n",
    "X_train['Month'] = X_train['targetDateTime'].str.split(' ').str[0].str.split('-').str[1].astype('int64')\n",
    "X_train['Day'] = X_train['targetDateTime'].str.split(' ').str[0].str.split('-').str[2].astype('int64')\n",
    "\n",
    "X_test['Year'] = X_test['targetDateTime'].str.split(' ').str[0].str.split('-').str[0].astype('int64')\n",
    "X_test['Month'] = X_test['targetDateTime'].str.split(' ').str[0].str.split('-').str[1].astype('int64')\n",
    "X_test['Day'] = X_test['targetDateTime'].str.split(' ').str[0].str.split('-').str[2].astype('int64')\n",
    "\n",
    "# 날짜 분리 (Time)\n",
    "X_train['Hour'] = X_train['targetDateTime'].str.split(' ').str[1].str.split(':').str[0].astype('int64')\n",
    "X_train['Minute'] = X_train['targetDateTime'].str.split(' ').str[1].str.split(':').str[1].astype('int64')\n",
    "\n",
    "X_test['Hour'] = X_test['targetDateTime'].str.split(' ').str[1].str.split(':').str[0].astype('int64')\n",
    "X_test['Minute'] = X_test['targetDateTime'].str.split(' ').str[1].str.split(':').str[1].astype('int64')\n",
    "\n",
    "# 분리했으므로 기존 날짜 열은 삭제\n",
    "X_train.drop('targetDateTime',axis=1,inplace=True)\n",
    "X_test.drop('targetDateTime',axis=1,inplace=True)"
   ]
  },
  {
   "cell_type": "code",
   "execution_count": 192,
   "metadata": {},
   "outputs": [
    {
     "name": "stdout",
     "output_type": "stream",
     "text": [
      "<class 'pandas.core.frame.DataFrame'>\n",
      "RangeIndex: 300001 entries, 0 to 300000\n",
      "Data columns (total 11 columns):\n",
      " #   Column      Non-Null Count   Dtype \n",
      "---  ------      --------------   ----- \n",
      " 0   PANEL_TYPE  300001 non-null  object\n",
      " 1   weekday     300001 non-null  int64 \n",
      " 2   isholiday   300001 non-null  int64 \n",
      " 3   gender      300001 non-null  object\n",
      " 4   region      300001 non-null  object\n",
      " 5   birthYear   300001 non-null  int64 \n",
      " 6   Year        300001 non-null  int64 \n",
      " 7   Month       300001 non-null  int64 \n",
      " 8   Day         300001 non-null  int64 \n",
      " 9   Hour        300001 non-null  int64 \n",
      " 10  Minute      300001 non-null  int64 \n",
      "dtypes: int64(8), object(3)\n",
      "memory usage: 25.2+ MB\n"
     ]
    }
   ],
   "source": [
    "X_train.info()"
   ]
  },
  {
   "cell_type": "markdown",
   "metadata": {},
   "source": [
    "### 연령대 피쳐 추가"
   ]
  },
  {
   "cell_type": "code",
   "execution_count": 203,
   "metadata": {},
   "outputs": [],
   "source": [
    "X_train['age'] = ((X_train['Year'].astype('int') - X_train['birthYear']) // 10 * 10).astype('str') + '대'\n",
    "X_test['age'] = ((X_test['Year'].astype('int') - X_test['birthYear']) // 10 * 10).astype('str') + '대'"
   ]
  },
  {
   "cell_type": "code",
   "execution_count": 204,
   "metadata": {},
   "outputs": [
    {
     "data": {
      "text/html": [
       "<div>\n",
       "<style scoped>\n",
       "    .dataframe tbody tr th:only-of-type {\n",
       "        vertical-align: middle;\n",
       "    }\n",
       "\n",
       "    .dataframe tbody tr th {\n",
       "        vertical-align: top;\n",
       "    }\n",
       "\n",
       "    .dataframe thead th {\n",
       "        text-align: right;\n",
       "    }\n",
       "</style>\n",
       "<table border=\"1\" class=\"dataframe\">\n",
       "  <thead>\n",
       "    <tr style=\"text-align: right;\">\n",
       "      <th></th>\n",
       "      <th>PANEL_TYPE</th>\n",
       "      <th>weekday</th>\n",
       "      <th>isholiday</th>\n",
       "      <th>gender</th>\n",
       "      <th>region</th>\n",
       "      <th>birthYear</th>\n",
       "      <th>Year</th>\n",
       "      <th>Month</th>\n",
       "      <th>Day</th>\n",
       "      <th>Hour</th>\n",
       "      <th>Minute</th>\n",
       "      <th>age</th>\n",
       "    </tr>\n",
       "  </thead>\n",
       "  <tbody>\n",
       "    <tr>\n",
       "      <th>0</th>\n",
       "      <td>B</td>\n",
       "      <td>4</td>\n",
       "      <td>1</td>\n",
       "      <td>남성</td>\n",
       "      <td>대구</td>\n",
       "      <td>1984</td>\n",
       "      <td>2020</td>\n",
       "      <td>10</td>\n",
       "      <td>2</td>\n",
       "      <td>14</td>\n",
       "      <td>31</td>\n",
       "      <td>30대</td>\n",
       "    </tr>\n",
       "    <tr>\n",
       "      <th>1</th>\n",
       "      <td>A</td>\n",
       "      <td>5</td>\n",
       "      <td>0</td>\n",
       "      <td>여성</td>\n",
       "      <td>경기</td>\n",
       "      <td>1972</td>\n",
       "      <td>2020</td>\n",
       "      <td>10</td>\n",
       "      <td>31</td>\n",
       "      <td>2</td>\n",
       "      <td>41</td>\n",
       "      <td>40대</td>\n",
       "    </tr>\n",
       "    <tr>\n",
       "      <th>2</th>\n",
       "      <td>B</td>\n",
       "      <td>6</td>\n",
       "      <td>0</td>\n",
       "      <td>여성</td>\n",
       "      <td>서울</td>\n",
       "      <td>1985</td>\n",
       "      <td>2020</td>\n",
       "      <td>11</td>\n",
       "      <td>22</td>\n",
       "      <td>10</td>\n",
       "      <td>0</td>\n",
       "      <td>30대</td>\n",
       "    </tr>\n",
       "    <tr>\n",
       "      <th>3</th>\n",
       "      <td>B</td>\n",
       "      <td>1</td>\n",
       "      <td>0</td>\n",
       "      <td>남성</td>\n",
       "      <td>서울</td>\n",
       "      <td>1957</td>\n",
       "      <td>2020</td>\n",
       "      <td>12</td>\n",
       "      <td>29</td>\n",
       "      <td>23</td>\n",
       "      <td>1</td>\n",
       "      <td>60대</td>\n",
       "    </tr>\n",
       "    <tr>\n",
       "      <th>4</th>\n",
       "      <td>A</td>\n",
       "      <td>2</td>\n",
       "      <td>0</td>\n",
       "      <td>남성</td>\n",
       "      <td>광주</td>\n",
       "      <td>1974</td>\n",
       "      <td>2020</td>\n",
       "      <td>12</td>\n",
       "      <td>9</td>\n",
       "      <td>22</td>\n",
       "      <td>3</td>\n",
       "      <td>40대</td>\n",
       "    </tr>\n",
       "    <tr>\n",
       "      <th>...</th>\n",
       "      <td>...</td>\n",
       "      <td>...</td>\n",
       "      <td>...</td>\n",
       "      <td>...</td>\n",
       "      <td>...</td>\n",
       "      <td>...</td>\n",
       "      <td>...</td>\n",
       "      <td>...</td>\n",
       "      <td>...</td>\n",
       "      <td>...</td>\n",
       "      <td>...</td>\n",
       "      <td>...</td>\n",
       "    </tr>\n",
       "    <tr>\n",
       "      <th>299996</th>\n",
       "      <td>A</td>\n",
       "      <td>3</td>\n",
       "      <td>0</td>\n",
       "      <td>남성</td>\n",
       "      <td>광주</td>\n",
       "      <td>1996</td>\n",
       "      <td>2020</td>\n",
       "      <td>8</td>\n",
       "      <td>27</td>\n",
       "      <td>5</td>\n",
       "      <td>25</td>\n",
       "      <td>20대</td>\n",
       "    </tr>\n",
       "    <tr>\n",
       "      <th>299997</th>\n",
       "      <td>B</td>\n",
       "      <td>3</td>\n",
       "      <td>0</td>\n",
       "      <td>여성</td>\n",
       "      <td>서울</td>\n",
       "      <td>1963</td>\n",
       "      <td>2020</td>\n",
       "      <td>2</td>\n",
       "      <td>6</td>\n",
       "      <td>4</td>\n",
       "      <td>41</td>\n",
       "      <td>50대</td>\n",
       "    </tr>\n",
       "    <tr>\n",
       "      <th>299998</th>\n",
       "      <td>A</td>\n",
       "      <td>6</td>\n",
       "      <td>0</td>\n",
       "      <td>여성</td>\n",
       "      <td>서울</td>\n",
       "      <td>1967</td>\n",
       "      <td>2021</td>\n",
       "      <td>2</td>\n",
       "      <td>28</td>\n",
       "      <td>8</td>\n",
       "      <td>1</td>\n",
       "      <td>50대</td>\n",
       "    </tr>\n",
       "    <tr>\n",
       "      <th>299999</th>\n",
       "      <td>A</td>\n",
       "      <td>0</td>\n",
       "      <td>0</td>\n",
       "      <td>남성</td>\n",
       "      <td>전남</td>\n",
       "      <td>1995</td>\n",
       "      <td>2020</td>\n",
       "      <td>11</td>\n",
       "      <td>23</td>\n",
       "      <td>23</td>\n",
       "      <td>4</td>\n",
       "      <td>20대</td>\n",
       "    </tr>\n",
       "    <tr>\n",
       "      <th>300000</th>\n",
       "      <td>B</td>\n",
       "      <td>3</td>\n",
       "      <td>0</td>\n",
       "      <td>남성</td>\n",
       "      <td>경기</td>\n",
       "      <td>1970</td>\n",
       "      <td>2020</td>\n",
       "      <td>3</td>\n",
       "      <td>12</td>\n",
       "      <td>4</td>\n",
       "      <td>33</td>\n",
       "      <td>50대</td>\n",
       "    </tr>\n",
       "  </tbody>\n",
       "</table>\n",
       "<p>300001 rows × 12 columns</p>\n",
       "</div>"
      ],
      "text/plain": [
       "       PANEL_TYPE  weekday  isholiday gender region  birthYear  Year  Month  \\\n",
       "0               B        4          1     남성     대구       1984  2020     10   \n",
       "1               A        5          0     여성     경기       1972  2020     10   \n",
       "2               B        6          0     여성     서울       1985  2020     11   \n",
       "3               B        1          0     남성     서울       1957  2020     12   \n",
       "4               A        2          0     남성     광주       1974  2020     12   \n",
       "...           ...      ...        ...    ...    ...        ...   ...    ...   \n",
       "299996          A        3          0     남성     광주       1996  2020      8   \n",
       "299997          B        3          0     여성     서울       1963  2020      2   \n",
       "299998          A        6          0     여성     서울       1967  2021      2   \n",
       "299999          A        0          0     남성     전남       1995  2020     11   \n",
       "300000          B        3          0     남성     경기       1970  2020      3   \n",
       "\n",
       "        Day  Hour  Minute  age  \n",
       "0         2    14      31  30대  \n",
       "1        31     2      41  40대  \n",
       "2        22    10       0  30대  \n",
       "3        29    23       1  60대  \n",
       "4         9    22       3  40대  \n",
       "...     ...   ...     ...  ...  \n",
       "299996   27     5      25  20대  \n",
       "299997    6     4      41  50대  \n",
       "299998   28     8       1  50대  \n",
       "299999   23    23       4  20대  \n",
       "300000   12     4      33  50대  \n",
       "\n",
       "[300001 rows x 12 columns]"
      ]
     },
     "execution_count": 204,
     "metadata": {},
     "output_type": "execute_result"
    }
   ],
   "source": [
    "X_train"
   ]
  },
  {
   "cell_type": "code",
   "execution_count": 205,
   "metadata": {},
   "outputs": [
    {
     "name": "stdout",
     "output_type": "stream",
     "text": [
      "<class 'pandas.core.frame.DataFrame'>\n",
      "RangeIndex: 300001 entries, 0 to 300000\n",
      "Data columns (total 12 columns):\n",
      " #   Column      Non-Null Count   Dtype \n",
      "---  ------      --------------   ----- \n",
      " 0   PANEL_TYPE  300001 non-null  object\n",
      " 1   weekday     300001 non-null  int64 \n",
      " 2   isholiday   300001 non-null  int64 \n",
      " 3   gender      300001 non-null  object\n",
      " 4   region      300001 non-null  object\n",
      " 5   birthYear   300001 non-null  int64 \n",
      " 6   Year        300001 non-null  int64 \n",
      " 7   Month       300001 non-null  int64 \n",
      " 8   Day         300001 non-null  int64 \n",
      " 9   Hour        300001 non-null  int64 \n",
      " 10  Minute      300001 non-null  int64 \n",
      " 11  age         300001 non-null  object\n",
      "dtypes: int64(8), object(4)\n",
      "memory usage: 27.5+ MB\n"
     ]
    }
   ],
   "source": [
    "X_train.info()"
   ]
  },
  {
   "cell_type": "code",
   "execution_count": 206,
   "metadata": {},
   "outputs": [
    {
     "name": "stdout",
     "output_type": "stream",
     "text": [
      "<class 'pandas.core.frame.DataFrame'>\n",
      "RangeIndex: 400001 entries, 0 to 400000\n",
      "Data columns (total 12 columns):\n",
      " #   Column      Non-Null Count   Dtype \n",
      "---  ------      --------------   ----- \n",
      " 0   PANEL_TYPE  400001 non-null  object\n",
      " 1   weekday     400001 non-null  int64 \n",
      " 2   isholiday   400001 non-null  int64 \n",
      " 3   gender      400001 non-null  object\n",
      " 4   region      400001 non-null  object\n",
      " 5   birthYear   400001 non-null  int64 \n",
      " 6   Year        400001 non-null  int64 \n",
      " 7   Month       400001 non-null  int64 \n",
      " 8   Day         400001 non-null  int64 \n",
      " 9   Hour        400001 non-null  int64 \n",
      " 10  Minute      400001 non-null  int64 \n",
      " 11  age         400001 non-null  object\n",
      "dtypes: int64(8), object(4)\n",
      "memory usage: 36.6+ MB\n"
     ]
    }
   ],
   "source": [
    "X_test.info()"
   ]
  },
  {
   "cell_type": "markdown",
   "metadata": {},
   "source": [
    "### 범주형 변수를 숫자로 매핑"
   ]
  },
  {
   "cell_type": "code",
   "execution_count": 207,
   "metadata": {},
   "outputs": [],
   "source": [
    "# OneHotECD를 위해 임의로 X_train과 X_test를 합침\n",
    "df = pd.concat([X_train,X_test])\n",
    "df = pd.concat([df,pd.get_dummies(df[['PANEL_TYPE','gender','region','age']])], axis=1)\n",
    "df.drop(columns = ['PANEL_TYPE','gender','region','age'], inplace = True)\n",
    "\n",
    "# 다시 분리 \n",
    "X_train = df.iloc[:300001]\n",
    "X_test = df.iloc[300001:]"
   ]
  },
  {
   "cell_type": "code",
   "execution_count": 208,
   "metadata": {
    "scrolled": false
   },
   "outputs": [
    {
     "name": "stdout",
     "output_type": "stream",
     "text": [
      "<class 'pandas.core.frame.DataFrame'>\n",
      "Int64Index: 300001 entries, 0 to 300000\n",
      "Data columns (total 39 columns):\n",
      " #   Column        Non-Null Count   Dtype\n",
      "---  ------        --------------   -----\n",
      " 0   weekday       300001 non-null  int64\n",
      " 1   isholiday     300001 non-null  int64\n",
      " 2   birthYear     300001 non-null  int64\n",
      " 3   Year          300001 non-null  int64\n",
      " 4   Month         300001 non-null  int64\n",
      " 5   Day           300001 non-null  int64\n",
      " 6   Hour          300001 non-null  int64\n",
      " 7   Minute        300001 non-null  int64\n",
      " 8   PANEL_TYPE_A  300001 non-null  uint8\n",
      " 9   PANEL_TYPE_B  300001 non-null  uint8\n",
      " 10  PANEL_TYPE_C  300001 non-null  uint8\n",
      " 11  gender_남성     300001 non-null  uint8\n",
      " 12  gender_여성     300001 non-null  uint8\n",
      " 13  region_강원     300001 non-null  uint8\n",
      " 14  region_경기     300001 non-null  uint8\n",
      " 15  region_경남     300001 non-null  uint8\n",
      " 16  region_경북     300001 non-null  uint8\n",
      " 17  region_광주     300001 non-null  uint8\n",
      " 18  region_대구     300001 non-null  uint8\n",
      " 19  region_대전     300001 non-null  uint8\n",
      " 20  region_부산     300001 non-null  uint8\n",
      " 21  region_서울     300001 non-null  uint8\n",
      " 22  region_세종     300001 non-null  uint8\n",
      " 23  region_울산     300001 non-null  uint8\n",
      " 24  region_인천     300001 non-null  uint8\n",
      " 25  region_전남     300001 non-null  uint8\n",
      " 26  region_전북     300001 non-null  uint8\n",
      " 27  region_제주     300001 non-null  uint8\n",
      " 28  region_충남     300001 non-null  uint8\n",
      " 29  region_충북     300001 non-null  uint8\n",
      " 30  age_10대       300001 non-null  uint8\n",
      " 31  age_20대       300001 non-null  uint8\n",
      " 32  age_30대       300001 non-null  uint8\n",
      " 33  age_40대       300001 non-null  uint8\n",
      " 34  age_50대       300001 non-null  uint8\n",
      " 35  age_60대       300001 non-null  uint8\n",
      " 36  age_70대       300001 non-null  uint8\n",
      " 37  age_80대       300001 non-null  uint8\n",
      " 38  age_90대       300001 non-null  uint8\n",
      "dtypes: int64(8), uint8(31)\n",
      "memory usage: 29.5 MB\n"
     ]
    }
   ],
   "source": [
    "X_train.info()"
   ]
  },
  {
   "cell_type": "code",
   "execution_count": 209,
   "metadata": {},
   "outputs": [
    {
     "name": "stdout",
     "output_type": "stream",
     "text": [
      "<class 'pandas.core.frame.DataFrame'>\n",
      "Int64Index: 400001 entries, 0 to 400000\n",
      "Data columns (total 39 columns):\n",
      " #   Column        Non-Null Count   Dtype\n",
      "---  ------        --------------   -----\n",
      " 0   weekday       400001 non-null  int64\n",
      " 1   isholiday     400001 non-null  int64\n",
      " 2   birthYear     400001 non-null  int64\n",
      " 3   Year          400001 non-null  int64\n",
      " 4   Month         400001 non-null  int64\n",
      " 5   Day           400001 non-null  int64\n",
      " 6   Hour          400001 non-null  int64\n",
      " 7   Minute        400001 non-null  int64\n",
      " 8   PANEL_TYPE_A  400001 non-null  uint8\n",
      " 9   PANEL_TYPE_B  400001 non-null  uint8\n",
      " 10  PANEL_TYPE_C  400001 non-null  uint8\n",
      " 11  gender_남성     400001 non-null  uint8\n",
      " 12  gender_여성     400001 non-null  uint8\n",
      " 13  region_강원     400001 non-null  uint8\n",
      " 14  region_경기     400001 non-null  uint8\n",
      " 15  region_경남     400001 non-null  uint8\n",
      " 16  region_경북     400001 non-null  uint8\n",
      " 17  region_광주     400001 non-null  uint8\n",
      " 18  region_대구     400001 non-null  uint8\n",
      " 19  region_대전     400001 non-null  uint8\n",
      " 20  region_부산     400001 non-null  uint8\n",
      " 21  region_서울     400001 non-null  uint8\n",
      " 22  region_세종     400001 non-null  uint8\n",
      " 23  region_울산     400001 non-null  uint8\n",
      " 24  region_인천     400001 non-null  uint8\n",
      " 25  region_전남     400001 non-null  uint8\n",
      " 26  region_전북     400001 non-null  uint8\n",
      " 27  region_제주     400001 non-null  uint8\n",
      " 28  region_충남     400001 non-null  uint8\n",
      " 29  region_충북     400001 non-null  uint8\n",
      " 30  age_10대       400001 non-null  uint8\n",
      " 31  age_20대       400001 non-null  uint8\n",
      " 32  age_30대       400001 non-null  uint8\n",
      " 33  age_40대       400001 non-null  uint8\n",
      " 34  age_50대       400001 non-null  uint8\n",
      " 35  age_60대       400001 non-null  uint8\n",
      " 36  age_70대       400001 non-null  uint8\n",
      " 37  age_80대       400001 non-null  uint8\n",
      " 38  age_90대       400001 non-null  uint8\n",
      "dtypes: int64(8), uint8(31)\n",
      "memory usage: 39.3 MB\n"
     ]
    }
   ],
   "source": [
    "X_test.info()"
   ]
  },
  {
   "cell_type": "markdown",
   "metadata": {},
   "source": [
    "### 스케일링"
   ]
  },
  {
   "cell_type": "code",
   "execution_count": 210,
   "metadata": {},
   "outputs": [],
   "source": [
    "from sklearn.preprocessing import StandardScaler\n",
    "scaler = StandardScaler()\n",
    "X_train = scaler.fit_transform(X_train)\n",
    "X_test = scaler.transform(X_test)"
   ]
  },
  {
   "cell_type": "markdown",
   "metadata": {},
   "source": [
    "# 모델링"
   ]
  },
  {
   "cell_type": "markdown",
   "metadata": {},
   "source": [
    "### 기본 모델 성능 파악"
   ]
  },
  {
   "cell_type": "code",
   "execution_count": 211,
   "metadata": {
    "scrolled": true
   },
   "outputs": [
    {
     "name": "stdout",
     "output_type": "stream",
     "text": [
      "<교차검증점수 평균>\n",
      "LogisticRegression : 0.7329315932152592\n",
      "DecisionTreeClassifier : 0.7725058397353664\n",
      "<테스트세트점수>\n",
      "LogisticRegression : 0.73257992257018\n",
      "DecisionTreeClassifier : 0.7779891295088074\n"
     ]
    }
   ],
   "source": [
    "from sklearn.linear_model import LogisticRegression\n",
    "from sklearn.tree import DecisionTreeClassifier\n",
    "from sklearn.model_selection import cross_val_score\n",
    "from sklearn.metrics import roc_auc_score\n",
    "import warnings\n",
    "warnings.filterwarnings(action = 'ignore')\n",
    "\n",
    "lr = LogisticRegression()\n",
    "dt = DecisionTreeClassifier(max_depth = 10)\n",
    "models = [lr,dt]\n",
    "\n",
    "print('<교차검증점수 평균>')\n",
    "for model in models:\n",
    "    print('{} : {}'.format(type(model).__name__,cross_val_score(model, X_train, y_train, cv = 5, scoring = 'roc_auc').mean()))\n",
    "print('<테스트세트점수>')\n",
    "for model in models:\n",
    "    model.fit(X_train, y_train)\n",
    "    print('{} : {}'.format(type(model).__name__, roc_auc_score(y_test, model.predict_proba(X_test)[:,1])))"
   ]
  },
  {
   "cell_type": "markdown",
   "metadata": {},
   "source": [
    "## 배깅"
   ]
  },
  {
   "cell_type": "markdown",
   "metadata": {},
   "source": [
    "< Parameter >\n",
    "- `base_estimator` : bagging을 적용할 모델\n",
    "- `n_estimators` : 앙상블에 사용할 분류기의 수\n",
    "- `max_samples` : 무작위로 샘플링할 샘플 수(행)\n",
    "- `bootstrap` : 중복 여부(행)\n",
    "- `max_features` : 무작위로 샘플링할 특성 수(열)\n",
    "- `bootstrap_features` : 중복 여부(열)\n",
    "- `...`"
   ]
  },
  {
   "cell_type": "markdown",
   "metadata": {},
   "source": [
    "```python\n",
    "# 배깅\n",
    "bootstrap == False\n",
    "# 페이스팅\n",
    "bootstrap == True\n",
    "# 랜덤 패치 방식\n",
    "bootstrap = True, max_samples < 1.0\n",
    "bootstrap_features = True, max_samples < 1.0\n",
    "# 서브스페이스 방식\n",
    "bootstrap = False, max_samples = 1.0\n",
    "bootstrap_features = True, max_features < 1.0\n",
    "```"
   ]
  },
  {
   "cell_type": "markdown",
   "metadata": {},
   "source": [
    "### DecisionTree에 배깅 적용하기"
   ]
  },
  {
   "cell_type": "code",
   "execution_count": 212,
   "metadata": {
    "scrolled": true
   },
   "outputs": [
    {
     "name": "stdout",
     "output_type": "stream",
     "text": [
      "<교차검증점수 평균>\n",
      "BaggingClassifier : 0.7924181729041783\n",
      "<테스트세트점수>\n",
      "BaggingClassifier : 0.7957090588291086\n"
     ]
    }
   ],
   "source": [
    "from sklearn.tree import DecisionTreeClassifier\n",
    "from sklearn.ensemble import BaggingClassifier\n",
    "\n",
    "bag_clf = BaggingClassifier(\n",
    "    DecisionTreeClassifier(max_depth = 10), n_estimators=100,\n",
    "    max_samples=0.8, bootstrap=True, random_state=42)\n",
    "models = [bag_clf]\n",
    "\n",
    "print('<교차검증점수 평균>')\n",
    "for model in models:\n",
    "    print('{} : {}'.format(type(model).__name__,cross_val_score(model, X_train, y_train, cv = 5, scoring = 'roc_auc').mean()))\n",
    "print('<테스트세트점수>')\n",
    "for model in models:\n",
    "    model.fit(X_train, y_train)\n",
    "    print('{} : {}'.format(type(model).__name__, roc_auc_score(y_test, model.predict_proba(X_test)[:,1])))"
   ]
  },
  {
   "cell_type": "markdown",
   "metadata": {},
   "source": [
    "## 랜덤포레스트"
   ]
  },
  {
   "cell_type": "markdown",
   "metadata": {},
   "source": [
    "< Parameter >\n",
    "- `n_estimators` : 앙상블에 사용할 분류기(DT)의 수 \n",
    "- `max_features` : 무작위로 샘플링할 특성 수(열)\n",
    "- `max_samples` : 무작위로 샘플링할 샘플 수 (열)\n",
    "- `bootstrap` : 중복 여부(행)\n",
    "- `max_depth` : 트리의 최대 깊이 수\n",
    "- `criterion` : {'gini','entropy'} : 분할에 사용할 function 선택\n",
    "- `min_samples_split` : 노드를 분할하기 위해 필요한 최소 sample 수 \n",
    "- `min_samples_leaf` : 리프노트가 되기 위해 필요한 최소 sample 수 \n",
    "- `...`"
   ]
  },
  {
   "cell_type": "code",
   "execution_count": 213,
   "metadata": {},
   "outputs": [
    {
     "name": "stdout",
     "output_type": "stream",
     "text": [
      "<교차검증점수 평균>\n",
      "RandomForestClassifier : 0.7722007900664852\n",
      "<테스트세트점수>\n",
      "RandomForestClassifier : 0.7743317764994401\n"
     ]
    }
   ],
   "source": [
    "from sklearn.ensemble import RandomForestClassifier\n",
    "\n",
    "rnd_clf = RandomForestClassifier(n_estimators=100, max_depth = 10, random_state=42)\n",
    "models = [rnd_clf]\n",
    "\n",
    "print('<교차검증점수 평균>')\n",
    "for model in models:\n",
    "    print('{} : {}'.format(type(model).__name__,cross_val_score(model, X_train, y_train, cv = 5, scoring = 'roc_auc').mean()))\n",
    "print('<테스트세트점수>')\n",
    "for model in models:\n",
    "    model.fit(X_train, y_train)\n",
    "    print('{} : {}'.format(type(model).__name__, roc_auc_score(y_test, model.predict_proba(X_test)[:,1])))"
   ]
  },
  {
   "cell_type": "markdown",
   "metadata": {},
   "source": [
    "## 엑스트라트리"
   ]
  },
  {
   "cell_type": "markdown",
   "metadata": {},
   "source": [
    "- 파라미터는 다른 트리모델과 거의 비슷합니다."
   ]
  },
  {
   "cell_type": "code",
   "execution_count": 214,
   "metadata": {},
   "outputs": [
    {
     "name": "stdout",
     "output_type": "stream",
     "text": [
      "<교차검증점수 평균>\n",
      "ExtraTreesClassifier : 0.7577923649762845\n",
      "<테스트세트점수>\n",
      "ExtraTreesClassifier : 0.7603551973874395\n"
     ]
    }
   ],
   "source": [
    "from sklearn.ensemble import ExtraTreesClassifier\n",
    "\n",
    "etc_clf =  ExtraTreesClassifier(n_estimators = 100, max_depth = 10, random_state = 42)\n",
    "models = [etc_clf]\n",
    "\n",
    "print('<교차검증점수 평균>')\n",
    "for model in models:\n",
    "    print('{} : {}'.format(type(model).__name__,cross_val_score(model, X_train, y_train, cv = 5, scoring = 'roc_auc').mean()))\n",
    "print('<테스트세트점수>')\n",
    "for model in models:\n",
    "    model.fit(X_train, y_train)\n",
    "    print('{} : {}'.format(type(model).__name__, roc_auc_score(y_test, model.predict_proba(X_test)[:,1])))"
   ]
  },
  {
   "cell_type": "markdown",
   "metadata": {},
   "source": [
    "# 베이지안 최적화"
   ]
  },
  {
   "cell_type": "code",
   "execution_count": 215,
   "metadata": {},
   "outputs": [
    {
     "name": "stdout",
     "output_type": "stream",
     "text": [
      "Requirement already satisfied: bayesian-optimization in c:\\users\\zammanbou\\anaconda3\\lib\\site-packages (1.2.0)\n",
      "Requirement already satisfied: numpy>=1.9.0 in c:\\users\\zammanbou\\anaconda3\\lib\\site-packages (from bayesian-optimization) (1.19.5)\n",
      "Requirement already satisfied: scikit-learn>=0.18.0 in c:\\users\\zammanbou\\anaconda3\\lib\\site-packages (from bayesian-optimization) (0.23.2)\n",
      "Requirement already satisfied: scipy>=0.14.0 in c:\\users\\zammanbou\\anaconda3\\lib\\site-packages (from bayesian-optimization) (1.7.1)\n",
      "Requirement already satisfied: joblib>=0.11 in c:\\users\\zammanbou\\anaconda3\\lib\\site-packages (from scikit-learn>=0.18.0->bayesian-optimization) (1.0.1)\n",
      "Requirement already satisfied: threadpoolctl>=2.0.0 in c:\\users\\zammanbou\\anaconda3\\lib\\site-packages (from scikit-learn>=0.18.0->bayesian-optimization) (2.1.0)\n"
     ]
    }
   ],
   "source": [
    "!pip install bayesian-optimization"
   ]
  },
  {
   "cell_type": "code",
   "execution_count": 216,
   "metadata": {},
   "outputs": [],
   "source": [
    "from bayes_opt import BayesianOptimization\n",
    "from sklearn.metrics import log_loss"
   ]
  },
  {
   "cell_type": "code",
   "execution_count": 217,
   "metadata": {},
   "outputs": [],
   "source": [
    "# Step1. 탐색하고싶은 하이퍼파라미터의 범위를 dictionary 형태로 지정.\n",
    "pbounds = {'n_estimators': (10,30),\n",
    "            'max_depth': (5,10)}\n",
    "\n",
    "# Step2. 1에서 생성한 dictionary의 key를 arguments로 하는 함수 생성\n",
    "def rnd_opt(n_estimators, max_depth):\n",
    "\n",
    "    # Step3. 탐색하고싶은 하이퍼파라미터의 조건 지정\n",
    "    params = {\n",
    "        'n_estimators' : int(round(n_estimators,0)),\n",
    "        'max_depth' : int(round(max_depth,0))\n",
    "    }\n",
    "    \n",
    "    # Step4. 모델 생성\n",
    "    rnd_clf = RandomForestClassifier(**params)\n",
    "    rnd_clf.fit(X_train, y_train)\n",
    "    \n",
    "    # Step5. 최대화하려는 score 선언\n",
    "    score = roc_auc_score(y_test, rnd_clf.predict_proba(X_test)[:,1])\n",
    "    \n",
    "    return score"
   ]
  },
  {
   "cell_type": "code",
   "execution_count": 218,
   "metadata": {
    "scrolled": true
   },
   "outputs": [
    {
     "name": "stdout",
     "output_type": "stream",
     "text": [
      "|   iter    |  target   | max_depth | n_esti... |\n",
      "-------------------------------------------------\n",
      "| \u001b[0m 1       \u001b[0m | \u001b[0m 0.7615  \u001b[0m | \u001b[0m 6.873   \u001b[0m | \u001b[0m 29.01   \u001b[0m |\n",
      "| \u001b[95m 2       \u001b[0m | \u001b[95m 0.7724  \u001b[0m | \u001b[95m 8.66    \u001b[0m | \u001b[95m 21.97   \u001b[0m |\n",
      "| \u001b[0m 3       \u001b[0m | \u001b[0m 0.7532  \u001b[0m | \u001b[0m 5.78    \u001b[0m | \u001b[0m 13.12   \u001b[0m |\n",
      "| \u001b[0m 4       \u001b[0m | \u001b[0m 0.7507  \u001b[0m | \u001b[0m 5.29    \u001b[0m | \u001b[0m 27.32   \u001b[0m |\n",
      "| \u001b[0m 5       \u001b[0m | \u001b[0m 0.7624  \u001b[0m | \u001b[0m 8.006   \u001b[0m | \u001b[0m 24.16   \u001b[0m |\n",
      "| \u001b[0m 6       \u001b[0m | \u001b[0m 0.7719  \u001b[0m | \u001b[0m 9.616   \u001b[0m | \u001b[0m 22.43   \u001b[0m |\n",
      "| \u001b[95m 7       \u001b[0m | \u001b[95m 0.7728  \u001b[0m | \u001b[95m 10.0    \u001b[0m | \u001b[95m 19.57   \u001b[0m |\n",
      "| \u001b[0m 8       \u001b[0m | \u001b[0m 0.7516  \u001b[0m | \u001b[0m 5.954   \u001b[0m | \u001b[0m 19.31   \u001b[0m |\n",
      "| \u001b[0m 9       \u001b[0m | \u001b[0m 0.77    \u001b[0m | \u001b[0m 10.0    \u001b[0m | \u001b[0m 30.0    \u001b[0m |\n",
      "| \u001b[0m 10      \u001b[0m | \u001b[0m 0.7684  \u001b[0m | \u001b[0m 10.0    \u001b[0m | \u001b[0m 10.0    \u001b[0m |\n",
      "| \u001b[0m 11      \u001b[0m | \u001b[0m 0.7713  \u001b[0m | \u001b[0m 10.0    \u001b[0m | \u001b[0m 16.26   \u001b[0m |\n",
      "| \u001b[0m 12      \u001b[0m | \u001b[0m 0.7717  \u001b[0m | \u001b[0m 10.0    \u001b[0m | \u001b[0m 13.33   \u001b[0m |\n",
      "| \u001b[0m 13      \u001b[0m | \u001b[0m 0.7718  \u001b[0m | \u001b[0m 10.0    \u001b[0m | \u001b[0m 27.31   \u001b[0m |\n",
      "| \u001b[95m 14      \u001b[0m | \u001b[95m 0.7732  \u001b[0m | \u001b[95m 10.0    \u001b[0m | \u001b[95m 21.02   \u001b[0m |\n",
      "| \u001b[0m 15      \u001b[0m | \u001b[0m 0.7542  \u001b[0m | \u001b[0m 7.302   \u001b[0m | \u001b[0m 10.0    \u001b[0m |\n",
      "| \u001b[0m 16      \u001b[0m | \u001b[0m 0.7725  \u001b[0m | \u001b[0m 10.0    \u001b[0m | \u001b[0m 25.33   \u001b[0m |\n",
      "| \u001b[0m 17      \u001b[0m | \u001b[0m 0.7691  \u001b[0m | \u001b[0m 8.918   \u001b[0m | \u001b[0m 20.42   \u001b[0m |\n",
      "| \u001b[0m 18      \u001b[0m | \u001b[0m 0.7697  \u001b[0m | \u001b[0m 9.996   \u001b[0m | \u001b[0m 18.19   \u001b[0m |\n",
      "| \u001b[95m 19      \u001b[0m | \u001b[95m 0.7735  \u001b[0m | \u001b[95m 10.0    \u001b[0m | \u001b[95m 14.75   \u001b[0m |\n",
      "| \u001b[0m 20      \u001b[0m | \u001b[0m 0.7622  \u001b[0m | \u001b[0m 8.782   \u001b[0m | \u001b[0m 15.01   \u001b[0m |\n",
      "| \u001b[0m 21      \u001b[0m | \u001b[0m 0.7702  \u001b[0m | \u001b[0m 10.0    \u001b[0m | \u001b[0m 11.67   \u001b[0m |\n",
      "| \u001b[0m 22      \u001b[0m | \u001b[0m 0.7727  \u001b[0m | \u001b[0m 10.0    \u001b[0m | \u001b[0m 24.01   \u001b[0m |\n",
      "| \u001b[0m 23      \u001b[0m | \u001b[0m 0.7722  \u001b[0m | \u001b[0m 9.948   \u001b[0m | \u001b[0m 28.61   \u001b[0m |\n",
      "| \u001b[0m 24      \u001b[0m | \u001b[0m 0.7631  \u001b[0m | \u001b[0m 8.62    \u001b[0m | \u001b[0m 29.94   \u001b[0m |\n",
      "| \u001b[0m 25      \u001b[0m | \u001b[0m 0.7728  \u001b[0m | \u001b[0m 9.978   \u001b[0m | \u001b[0m 20.11   \u001b[0m |\n",
      "| \u001b[0m 26      \u001b[0m | \u001b[0m 0.7664  \u001b[0m | \u001b[0m 9.357   \u001b[0m | \u001b[0m 21.54   \u001b[0m |\n",
      "| \u001b[0m 27      \u001b[0m | \u001b[0m 0.758   \u001b[0m | \u001b[0m 7.177   \u001b[0m | \u001b[0m 22.11   \u001b[0m |\n",
      "| \u001b[0m 28      \u001b[0m | \u001b[0m 0.7715  \u001b[0m | \u001b[0m 8.716   \u001b[0m | \u001b[0m 26.56   \u001b[0m |\n",
      "| \u001b[0m 29      \u001b[0m | \u001b[0m 0.7462  \u001b[0m | \u001b[0m 5.0     \u001b[0m | \u001b[0m 16.23   \u001b[0m |\n",
      "| \u001b[0m 30      \u001b[0m | \u001b[0m 0.7671  \u001b[0m | \u001b[0m 8.571   \u001b[0m | \u001b[0m 18.56   \u001b[0m |\n",
      "=================================================\n"
     ]
    }
   ],
   "source": [
    "# Step6. BayesianOptimization 객체 생성\n",
    "BO_rnd = BayesianOptimization(f = rnd_opt, pbounds = pbounds, random_state=42) # 최대화하려는 함수 f, 탐색범위 pbounds\n",
    "\n",
    "# Step7. 최대화\n",
    "BO_rnd.maximize(init_points=5, n_iter=25) # 처음 탐색 횟수 init_points, 추가 탐색 횟수 n_iter"
   ]
  }
 ],
 "metadata": {
  "kernelspec": {
   "display_name": "Python 3",
   "language": "python",
   "name": "python3"
  },
  "language_info": {
   "codemirror_mode": {
    "name": "ipython",
    "version": 3
   },
   "file_extension": ".py",
   "mimetype": "text/x-python",
   "name": "python",
   "nbconvert_exporter": "python",
   "pygments_lexer": "ipython3",
   "version": "3.8.5"
  }
 },
 "nbformat": 4,
 "nbformat_minor": 5
}
